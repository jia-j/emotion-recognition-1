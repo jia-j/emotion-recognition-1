{
 "cells": [
  {
   "cell_type": "code",
   "execution_count": 1,
   "metadata": {},
   "outputs": [],
   "source": [
    "import pyedflib\n",
    "import numpy as np\n",
    "import pandas as pd\n",
    "import matplotlib.pyplot as plt\n",
    "from pathlib import Path\n",
    "import os\n",
    "import re\n",
    "import xml.etree.ElementTree as ET\n",
    "\n",
    "import heartpy as hp"
   ]
  },
  {
   "cell_type": "code",
   "execution_count": 2,
   "metadata": {},
   "outputs": [],
   "source": [
    "# Maps\n",
    "video_emotion_map = {\n",
    "    '69.avi': 'disgust',\n",
    "    '55.avi': 'anger',\n",
    "    '58.avi': 'amusement',\n",
    "    'earworm_f.avi': 'disgust',\n",
    "    '53.avi': 'amusement',\n",
    "    '80.avi': 'joy',\n",
    "    '52.avi': 'amusement',\n",
    "    '79.avi': 'joy',\n",
    "    '73.avi': 'fear',\n",
    "    '90.avi': 'joy',\n",
    "    '107.avi': 'fear',\n",
    "    '146.avi': 'sadness',\n",
    "    '30.avi': 'fear',\n",
    "    '138.avi': 'sadness',\n",
    "    'newyork_f.avi': 'neutral',\n",
    "    '111.avi': 'sadness',\n",
    "    'detroit_f.avi': 'neutral',\n",
    "    'cats_f.avi': 'joy',\n",
    "    'dallas_f.avi': 'neutral',\n",
    "    'funny_f.avi': 'joy'\n",
    "}\n",
    "\n",
    "emotion_number_map= {\n",
    "    'neutral': 0,\n",
    "    'anger': 1,\n",
    "    'disgust': 2,\n",
    "    'fear': 3,\n",
    "    'joy': 4,\n",
    "    'sadness': 5,\n",
    "    'suprise': 6,\n",
    "    'scream': 7,\n",
    "    'bored': 8,\n",
    "    'sleepy': 9,\n",
    "    'unknown': 10,\n",
    "    'amusement': 11,\n",
    "    'anxiety': 12\n",
    "}"
   ]
  },
  {
   "cell_type": "code",
   "execution_count": 3,
   "metadata": {},
   "outputs": [],
   "source": [
    "# pandas dataframe storage\n",
    "# Read file names\n",
    "dataset_root = '/Users/Russel/myProjects/emotion-recognition/code/datasets/mahnob_hci/Sessions/'\n",
    "dataset_path = Path(dataset_root)\n",
    "dataset_dirs = sorted(os.listdir(dataset_root), key=int)\n",
    "dataset_dirs = [dataset_path / dataset_dir for dataset_dir in dataset_dirs]\n",
    "\n",
    "dataset = pd.DataFrame(columns=['ECG1', 'ECG2', 'ECG3', 'status', 'label', 'feltEmo', 'feltVlnc', 'feltArsl', 'feltCtrl', 'feltPred', 'subject', 'trial', 'bdf_file_path', 'session_file_path'])\n",
    "\n",
    "bdf_file_pattern = re.compile('Part_(?P<subject>\\d+)_S_Trial(?P<trial>\\d+)_emotion')\n",
    "\n",
    "for i, dataset_dir in enumerate(dataset_dirs):\n",
    "    bdf_file = list(dataset_dir.glob(\"*.bdf\"))\n",
    "    if bdf_file:\n",
    "        bdf_file = bdf_file[0]\n",
    "        print('Adding', bdf_file.stem)\n",
    "        session_file = list(dataset_dir.glob(\"*.xml\"))[0]\n",
    "        \n",
    "        # Read signal\n",
    "        f = pyedflib.EdfReader(str(bdf_file))\n",
    "        sigbufs = np.zeros((4, f.getNSamples()[0]))\n",
    "        sigbufs[0, :] = f.readSignal(32)\n",
    "        sigbufs[1, :] = f.readSignal(33)\n",
    "        sigbufs[2, :] = f.readSignal(34)\n",
    "        sigbufs[3, :] = f.readSignal(46)\n",
    "            \n",
    "        # Read metadata\n",
    "        m = bdf_file_pattern.match(bdf_file.stem)\n",
    "        subject = m.groups()[0]\n",
    "        trial = m.groups()[1]\n",
    "        \n",
    "        # Read labels\n",
    "        root = ET.parse(session_file).getroot()\n",
    "        \n",
    "        # Append to dataset dataframe\n",
    "        dataset.loc[i, 'ECG1'] = sigbufs[0]\n",
    "        dataset.loc[i, 'ECG2'] = sigbufs[1]\n",
    "        dataset.loc[i, 'ECG3'] = sigbufs[2]\n",
    "        dataset.loc[i, 'status'] =  sigbufs[3]\n",
    "        dataset.loc[i, 'label'] =  int(emotion_number_map[video_emotion_map[root.attrib['mediaFile']]])\n",
    "        dataset.loc[i, 'feltEmo'] =  int(root.attrib['feltEmo'])\n",
    "        dataset.loc[i, 'feltArsl'] =  int(root.attrib['feltArsl'])\n",
    "        dataset.loc[i, 'feltVlnc'] =  int(root.attrib['feltVlnc'])\n",
    "        dataset.loc[i, 'feltCtrl'] =  int(root.attrib['feltCtrl'])\n",
    "        dataset.loc[i, 'feltPred'] =  int(root.attrib['feltPred'])\n",
    "        dataset.loc[i, 'subject'] = subject\n",
    "        dataset.loc[i, 'trial'] = trial\n",
    "        dataset.loc[i, 'bdf_file_path'] = bdf_file.as_posix()\n",
    "        dataset.loc[i, 'session_file_path'] = session_file.as_posix()"
   ]
  },
  {
   "cell_type": "code",
   "execution_count": 4,
   "metadata": {},
   "outputs": [],
   "source": [
    "data = dataset.loc[200]['ECG3'][:30000]\n",
    "data = abs(data)/max(abs(data))\n",
    "plt.figure(figsize=(20,4))\n",
    "plt.plot(data)\n",
    "data.shape, max(data), min(data), type(data)"
   ]
  },
  {
   "cell_type": "code",
   "execution_count": 16,
   "metadata": {},
   "outputs": [],
   "source": [
    "from biosppy.signals import ecg\n",
    "\n",
    "# process it and plot\n",
    "out = ecg.ecg(signal=data, sampling_rate=256.0, show=False)\n",
    "plt.figure(figsize=(20,4 ))\n",
    "plt.plot(out[1])\n",
    "plt.show()"
   ]
  },
  {
   "cell_type": "code",
   "execution_count": 8,
   "metadata": {},
   "outputs": [],
   "source": [
    "ecg.correct_rpeaks(signal=data, rpeaks=out[3], sampling_rate=256.0)"
   ]
  },
  {
   "cell_type": "code",
   "execution_count": 9,
   "metadata": {},
   "outputs": [],
   "source": [
    "out[1].shape"
   ]
  },
  {
   "cell_type": "code",
   "execution_count": 10,
   "metadata": {},
   "outputs": [],
   "source": [
    "plt.figure(figsize=(20, 4))\n",
    "plt.plot(abs(1.0-data))\n",
    "plt.plot(out[1])"
   ]
  },
  {
   "cell_type": "code",
   "execution_count": 11,
   "metadata": {},
   "outputs": [],
   "source": [
    "wd, m = hp.process(out[1], 256.0)\n",
    "plt.figure(figsize=(20, 4))\n",
    "hp.plotter(wd, m)"
   ]
  },
  {
   "cell_type": "code",
   "execution_count": 12,
   "metadata": {},
   "outputs": [],
   "source": [
    "plt.figure(figsize=(20, 10))\n",
    "plt.plot(1.0 - data[20000:25000])\n",
    "plt.plot(out[1][20000:25000])"
   ]
  },
  {
   "cell_type": "code",
   "execution_count": 17,
   "metadata": {},
   "outputs": [],
   "source": [
    "wd"
   ]
  },
  {
   "cell_type": "code",
   "execution_count": null,
   "metadata": {},
   "outputs": [],
   "source": []
  }
 ],
 "metadata": {
  "kernelspec": {
   "display_name": "Python 3",
   "language": "python",
   "name": "python3"
  },
  "language_info": {
   "codemirror_mode": {
    "name": "ipython",
    "version": 3
   },
   "file_extension": ".py",
   "mimetype": "text/x-python",
   "name": "python",
   "nbconvert_exporter": "python",
   "pygments_lexer": "ipython3",
   "version": "3.6.8"
  }
 },
 "nbformat": 4,
 "nbformat_minor": 2
}